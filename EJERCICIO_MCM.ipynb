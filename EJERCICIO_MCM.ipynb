{
  "nbformat": 4,
  "nbformat_minor": 0,
  "metadata": {
    "colab": {
      "provenance": [],
      "authorship_tag": "ABX9TyOixMOPO/qAfj1xH6h2qOaG",
      "include_colab_link": true
    },
    "kernelspec": {
      "name": "python3",
      "display_name": "Python 3"
    },
    "language_info": {
      "name": "python"
    }
  },
  "cells": [
    {
      "cell_type": "markdown",
      "metadata": {
        "id": "view-in-github",
        "colab_type": "text"
      },
      "source": [
        "<a href=\"https://colab.research.google.com/github/cindyleal8606-create/EJERCICIOS/blob/main/EJERCICIO_MCM.ipynb\" target=\"_parent\"><img src=\"https://colab.research.google.com/assets/colab-badge.svg\" alt=\"Open In Colab\"/></a>"
      ]
    },
    {
      "cell_type": "markdown",
      "source": [
        "Este algoritmo va a calcular el máximo común múltiplo (MCM). El mcm de dos números enteros es el menor número positivo que es múltiplo de ambos."
      ],
      "metadata": {
        "id": "Z_DU4kkdsP9a"
      }
    },
    {
      "cell_type": "code",
      "source": [
        "\n",
        "Num1 = int(input(\"Ingrese el primer número: \"))\n",
        "Num2 = int(input(\"Ingrese el segundo número: \"))\n",
        "\n",
        "\n",
        "if Num1 > Num2:\n",
        "    mayor = Num1\n",
        "else:\n",
        "    mayor = Num2\n",
        "\n",
        "\n",
        "encontrado = False\n",
        "while not encontrado:\n",
        "    if mayor % Num1 == 0 and mayor % Num2 == 0:\n",
        "        mcm = mayor\n",
        "        encontrado = True\n",
        "    else:\n",
        "        mayor = mayor + 1\n",
        "\n",
        "print(\"El Máximo Común Múltiplo de\", Num1, \"y\", Num2, \"es:\", mcm)\n"
      ],
      "metadata": {
        "colab": {
          "base_uri": "https://localhost:8080/"
        },
        "id": "TLQHQ_P5sYZ8",
        "outputId": "c323e71a-aaa2-498b-a158-d52a41d95783"
      },
      "execution_count": 9,
      "outputs": [
        {
          "output_type": "stream",
          "name": "stdout",
          "text": [
            "Ingrese el primer número: 10\n",
            "Ingrese el segundo número: 3\n",
            "El Máximo Común Múltiplo de 10 y 3 es: 30\n"
          ]
        }
      ]
    }
  ]
}