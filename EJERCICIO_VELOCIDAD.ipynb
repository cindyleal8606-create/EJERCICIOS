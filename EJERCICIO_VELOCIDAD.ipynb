{
  "nbformat": 4,
  "nbformat_minor": 0,
  "metadata": {
    "colab": {
      "provenance": [],
      "authorship_tag": "ABX9TyNLyu6BlYiZ0C7vIrd/kqRW",
      "include_colab_link": true
    },
    "kernelspec": {
      "name": "python3",
      "display_name": "Python 3"
    },
    "language_info": {
      "name": "python"
    }
  },
  "cells": [
    {
      "cell_type": "markdown",
      "metadata": {
        "id": "view-in-github",
        "colab_type": "text"
      },
      "source": [
        "<a href=\"https://colab.research.google.com/github/cindyleal8606-create/EJERCICIOS/blob/main/EJERCICIO_VELOCIDAD.ipynb\" target=\"_parent\"><img src=\"https://colab.research.google.com/assets/colab-badge.svg\" alt=\"Open In Colab\"/></a>"
      ]
    },
    {
      "cell_type": "markdown",
      "source": [
        "Este algoritmo permitirá calcular la velocidad de un objeto cuando se conocen la distancia y el tiempo.\n"
      ],
      "metadata": {
        "id": "n8xt0EUHZEGT"
      }
    },
    {
      "cell_type": "code",
      "source": [
        "d= float(input(\"Escriba la distancia recorrida (en metros):\" ))\n",
        "t= float(input(\"Escriba el tiempo en que hizo el recorrido (en segundos):\"))\n",
        "v=d/t\n",
        "print (\"La velocidad es:\" + str(v) + \"m/s\")"
      ],
      "metadata": {
        "colab": {
          "base_uri": "https://localhost:8080/"
        },
        "id": "ZBr4A-K4ZEr8",
        "outputId": "8e0c915a-18db-4bd2-a905-fc7aa3d7fda7"
      },
      "execution_count": 1,
      "outputs": [
        {
          "output_type": "stream",
          "name": "stdout",
          "text": [
            "Escriba la distancia recorrida (en metros):15\n",
            "Escriba el tiempo en que hizo el recorrido (en segundos):5\n",
            "La velocidad es:3.0m/s\n"
          ]
        }
      ]
    }
  ]
}